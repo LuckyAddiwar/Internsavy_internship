{
 "cells": [
  {
   "cell_type": "code",
   "execution_count": 1,
   "id": "6993e120",
   "metadata": {
    "_cell_guid": "b1076dfc-b9ad-4769-8c92-a6c4dae69d19",
    "_uuid": "8f2839f25d086af736a60e9eeb907d3b93b6e0e5",
    "execution": {
     "iopub.execute_input": "2023-07-25T15:56:52.207859Z",
     "iopub.status.busy": "2023-07-25T15:56:52.206815Z",
     "iopub.status.idle": "2023-07-25T15:56:52.226831Z",
     "shell.execute_reply": "2023-07-25T15:56:52.225704Z"
    },
    "papermill": {
     "duration": 0.037498,
     "end_time": "2023-07-25T15:56:52.229572",
     "exception": false,
     "start_time": "2023-07-25T15:56:52.192074",
     "status": "completed"
    },
    "tags": []
   },
   "outputs": [
    {
     "name": "stdout",
     "output_type": "stream",
     "text": [
      "/kaggle/input/graduate-admissions/Admission_Predict.csv\n",
      "/kaggle/input/graduate-admissions/Admission_Predict_Ver1.1.csv\n"
     ]
    }
   ],
   "source": [
    "# This Python 3 environment comes with many helpful analytics libraries installed\n",
    "# It is defined by the kaggle/python Docker image: https://github.com/kaggle/docker-python\n",
    "# For example, here's several helpful packages to load\n",
    "\n",
    "import numpy as np # linear algebra\n",
    "import pandas as pd # data processing, CSV file I/O (e.g. pd.read_csv)\n",
    "\n",
    "# Input data files are available in the read-only \"../input/\" directory\n",
    "# For example, running this (by clicking run or pressing Shift+Enter) will list all files under the input directory\n",
    "\n",
    "import os\n",
    "for dirname, _, filenames in os.walk('/kaggle/input'):\n",
    "    for filename in filenames:\n",
    "        print(os.path.join(dirname, filename))\n",
    "\n",
    "# You can write up to 20GB to the current directory (/kaggle/working/) that gets preserved as output when you create a version using \"Save & Run All\" \n",
    "# You can also write temporary files to /kaggle/temp/, but they won't be saved outside of the current session"
   ]
  },
  {
   "cell_type": "code",
   "execution_count": 2,
   "id": "bf9cdcb4",
   "metadata": {
    "execution": {
     "iopub.execute_input": "2023-07-25T15:56:52.256359Z",
     "iopub.status.busy": "2023-07-25T15:56:52.255933Z",
     "iopub.status.idle": "2023-07-25T15:56:52.261316Z",
     "shell.execute_reply": "2023-07-25T15:56:52.260106Z"
    },
    "papermill": {
     "duration": 0.021323,
     "end_time": "2023-07-25T15:56:52.263533",
     "exception": false,
     "start_time": "2023-07-25T15:56:52.242210",
     "status": "completed"
    },
    "tags": []
   },
   "outputs": [],
   "source": [
    "import pandas as pd\n",
    "import numpy as np\n",
    "import warnings\n",
    "warnings.filterwarnings('ignore')"
   ]
  },
  {
   "cell_type": "code",
   "execution_count": 3,
   "id": "39b06fc7",
   "metadata": {
    "execution": {
     "iopub.execute_input": "2023-07-25T15:56:52.292290Z",
     "iopub.status.busy": "2023-07-25T15:56:52.291835Z",
     "iopub.status.idle": "2023-07-25T15:56:52.322136Z",
     "shell.execute_reply": "2023-07-25T15:56:52.321228Z"
    },
    "papermill": {
     "duration": 0.048431,
     "end_time": "2023-07-25T15:56:52.324735",
     "exception": false,
     "start_time": "2023-07-25T15:56:52.276304",
     "status": "completed"
    },
    "tags": []
   },
   "outputs": [],
   "source": [
    "df=pd.read_csv('/kaggle/input/graduate-admissions/Admission_Predict_Ver1.1.csv')\n",
    "df1=pd.read_csv('/kaggle/input/graduate-admissions/Admission_Predict.csv')"
   ]
  },
  {
   "cell_type": "code",
   "execution_count": 4,
   "id": "066319d6",
   "metadata": {
    "execution": {
     "iopub.execute_input": "2023-07-25T15:56:52.352282Z",
     "iopub.status.busy": "2023-07-25T15:56:52.351897Z",
     "iopub.status.idle": "2023-07-25T15:56:52.357791Z",
     "shell.execute_reply": "2023-07-25T15:56:52.356732Z"
    },
    "papermill": {
     "duration": 0.022746,
     "end_time": "2023-07-25T15:56:52.360404",
     "exception": false,
     "start_time": "2023-07-25T15:56:52.337658",
     "status": "completed"
    },
    "tags": []
   },
   "outputs": [
    {
     "name": "stdout",
     "output_type": "stream",
     "text": [
      "Column names: ['Serial No.', 'GRE Score', 'TOEFL Score', 'University Rating', 'SOP', 'LOR ', 'CGPA', 'Research', 'Chance of Admit ']\n"
     ]
    }
   ],
   "source": [
    "col_names=df.columns.tolist()\n",
    "print(\"Column names:\",col_names)"
   ]
  },
  {
   "cell_type": "markdown",
   "id": "c91ed568",
   "metadata": {
    "papermill": {
     "duration": 0.012109,
     "end_time": "2023-07-25T15:56:52.385096",
     "exception": false,
     "start_time": "2023-07-25T15:56:52.372987",
     "status": "completed"
    },
    "tags": []
   },
   "source": [
    "1.There were Space in Chance of Admit Variable\n",
    "\n",
    "2.Serial No has Full stop Sign name it as no"
   ]
  },
  {
   "cell_type": "code",
   "execution_count": 5,
   "id": "e5719d96",
   "metadata": {
    "execution": {
     "iopub.execute_input": "2023-07-25T15:56:52.411941Z",
     "iopub.status.busy": "2023-07-25T15:56:52.411493Z",
     "iopub.status.idle": "2023-07-25T15:56:52.424194Z",
     "shell.execute_reply": "2023-07-25T15:56:52.422953Z"
    },
    "papermill": {
     "duration": 0.028925,
     "end_time": "2023-07-25T15:56:52.426610",
     "exception": false,
     "start_time": "2023-07-25T15:56:52.397685",
     "status": "completed"
    },
    "tags": []
   },
   "outputs": [],
   "source": [
    "df=df.rename(columns={'Serial No.':'Serial_No','GRE Score':'GRE_Score','TOEFL Score':'TOEFL_Score','University Rating':'University_rating','LOR ':'LOR'\n",
    "                     ,'Chance of Admit ':'Chance_of_Admit'})"
   ]
  },
  {
   "cell_type": "code",
   "execution_count": 6,
   "id": "63a80782",
   "metadata": {
    "execution": {
     "iopub.execute_input": "2023-07-25T15:56:52.453350Z",
     "iopub.status.busy": "2023-07-25T15:56:52.452971Z",
     "iopub.status.idle": "2023-07-25T15:56:52.459067Z",
     "shell.execute_reply": "2023-07-25T15:56:52.458015Z"
    },
    "papermill": {
     "duration": 0.022406,
     "end_time": "2023-07-25T15:56:52.461525",
     "exception": false,
     "start_time": "2023-07-25T15:56:52.439119",
     "status": "completed"
    },
    "tags": []
   },
   "outputs": [
    {
     "name": "stdout",
     "output_type": "stream",
     "text": [
      "(500, 9)\n",
      "(400, 9)\n"
     ]
    }
   ],
   "source": [
    "print(df.shape)\n",
    "print(df1.shape)"
   ]
  },
  {
   "cell_type": "markdown",
   "id": "1c48ea6e",
   "metadata": {
    "papermill": {
     "duration": 0.012427,
     "end_time": "2023-07-25T15:56:52.486850",
     "exception": false,
     "start_time": "2023-07-25T15:56:52.474423",
     "status": "completed"
    },
    "tags": []
   },
   "source": [
    "Data has 500 rows and 9 columns"
   ]
  },
  {
   "cell_type": "code",
   "execution_count": 7,
   "id": "20865150",
   "metadata": {
    "execution": {
     "iopub.execute_input": "2023-07-25T15:56:52.514268Z",
     "iopub.status.busy": "2023-07-25T15:56:52.513873Z",
     "iopub.status.idle": "2023-07-25T15:56:52.538903Z",
     "shell.execute_reply": "2023-07-25T15:56:52.538016Z"
    },
    "papermill": {
     "duration": 0.041603,
     "end_time": "2023-07-25T15:56:52.541378",
     "exception": false,
     "start_time": "2023-07-25T15:56:52.499775",
     "status": "completed"
    },
    "tags": []
   },
   "outputs": [
    {
     "data": {
      "text/html": [
       "<div>\n",
       "<style scoped>\n",
       "    .dataframe tbody tr th:only-of-type {\n",
       "        vertical-align: middle;\n",
       "    }\n",
       "\n",
       "    .dataframe tbody tr th {\n",
       "        vertical-align: top;\n",
       "    }\n",
       "\n",
       "    .dataframe thead th {\n",
       "        text-align: right;\n",
       "    }\n",
       "</style>\n",
       "<table border=\"1\" class=\"dataframe\">\n",
       "  <thead>\n",
       "    <tr style=\"text-align: right;\">\n",
       "      <th></th>\n",
       "      <th>Serial_No</th>\n",
       "      <th>GRE_Score</th>\n",
       "      <th>TOEFL_Score</th>\n",
       "      <th>University_rating</th>\n",
       "      <th>SOP</th>\n",
       "      <th>LOR</th>\n",
       "      <th>CGPA</th>\n",
       "      <th>Research</th>\n",
       "      <th>Chance_of_Admit</th>\n",
       "    </tr>\n",
       "  </thead>\n",
       "  <tbody>\n",
       "    <tr>\n",
       "      <th>0</th>\n",
       "      <td>1</td>\n",
       "      <td>337</td>\n",
       "      <td>118</td>\n",
       "      <td>4</td>\n",
       "      <td>4.5</td>\n",
       "      <td>4.5</td>\n",
       "      <td>9.65</td>\n",
       "      <td>1</td>\n",
       "      <td>0.92</td>\n",
       "    </tr>\n",
       "    <tr>\n",
       "      <th>1</th>\n",
       "      <td>2</td>\n",
       "      <td>324</td>\n",
       "      <td>107</td>\n",
       "      <td>4</td>\n",
       "      <td>4.0</td>\n",
       "      <td>4.5</td>\n",
       "      <td>8.87</td>\n",
       "      <td>1</td>\n",
       "      <td>0.76</td>\n",
       "    </tr>\n",
       "    <tr>\n",
       "      <th>2</th>\n",
       "      <td>3</td>\n",
       "      <td>316</td>\n",
       "      <td>104</td>\n",
       "      <td>3</td>\n",
       "      <td>3.0</td>\n",
       "      <td>3.5</td>\n",
       "      <td>8.00</td>\n",
       "      <td>1</td>\n",
       "      <td>0.72</td>\n",
       "    </tr>\n",
       "    <tr>\n",
       "      <th>3</th>\n",
       "      <td>4</td>\n",
       "      <td>322</td>\n",
       "      <td>110</td>\n",
       "      <td>3</td>\n",
       "      <td>3.5</td>\n",
       "      <td>2.5</td>\n",
       "      <td>8.67</td>\n",
       "      <td>1</td>\n",
       "      <td>0.80</td>\n",
       "    </tr>\n",
       "    <tr>\n",
       "      <th>4</th>\n",
       "      <td>5</td>\n",
       "      <td>314</td>\n",
       "      <td>103</td>\n",
       "      <td>2</td>\n",
       "      <td>2.0</td>\n",
       "      <td>3.0</td>\n",
       "      <td>8.21</td>\n",
       "      <td>0</td>\n",
       "      <td>0.65</td>\n",
       "    </tr>\n",
       "  </tbody>\n",
       "</table>\n",
       "</div>"
      ],
      "text/plain": [
       "   Serial_No  GRE_Score  TOEFL_Score  University_rating  SOP  LOR  CGPA  \\\n",
       "0          1        337          118                  4  4.5  4.5  9.65   \n",
       "1          2        324          107                  4  4.0  4.5  8.87   \n",
       "2          3        316          104                  3  3.0  3.5  8.00   \n",
       "3          4        322          110                  3  3.5  2.5  8.67   \n",
       "4          5        314          103                  2  2.0  3.0  8.21   \n",
       "\n",
       "   Research  Chance_of_Admit  \n",
       "0         1             0.92  \n",
       "1         1             0.76  \n",
       "2         1             0.72  \n",
       "3         1             0.80  \n",
       "4         0             0.65  "
      ]
     },
     "execution_count": 7,
     "metadata": {},
     "output_type": "execute_result"
    }
   ],
   "source": [
    "df.head()"
   ]
  },
  {
   "cell_type": "code",
   "execution_count": 8,
   "id": "b0187441",
   "metadata": {
    "execution": {
     "iopub.execute_input": "2023-07-25T15:56:52.569307Z",
     "iopub.status.busy": "2023-07-25T15:56:52.568750Z",
     "iopub.status.idle": "2023-07-25T15:56:52.579557Z",
     "shell.execute_reply": "2023-07-25T15:56:52.578480Z"
    },
    "papermill": {
     "duration": 0.027439,
     "end_time": "2023-07-25T15:56:52.581953",
     "exception": false,
     "start_time": "2023-07-25T15:56:52.554514",
     "status": "completed"
    },
    "tags": []
   },
   "outputs": [
    {
     "data": {
      "text/plain": [
       "Serial_No            0\n",
       "GRE_Score            0\n",
       "TOEFL_Score          0\n",
       "University_rating    0\n",
       "SOP                  0\n",
       "LOR                  0\n",
       "CGPA                 0\n",
       "Research             0\n",
       "Chance_of_Admit      0\n",
       "dtype: int64"
      ]
     },
     "execution_count": 8,
     "metadata": {},
     "output_type": "execute_result"
    }
   ],
   "source": [
    "df.isnull().sum()"
   ]
  },
  {
   "cell_type": "markdown",
   "id": "947c116e",
   "metadata": {
    "papermill": {
     "duration": 0.012687,
     "end_time": "2023-07-25T15:56:52.607669",
     "exception": false,
     "start_time": "2023-07-25T15:56:52.594982",
     "status": "completed"
    },
    "tags": []
   },
   "source": [
    "We dont have any null values in data."
   ]
  },
  {
   "cell_type": "code",
   "execution_count": 9,
   "id": "c65b58fa",
   "metadata": {
    "execution": {
     "iopub.execute_input": "2023-07-25T15:56:52.636082Z",
     "iopub.status.busy": "2023-07-25T15:56:52.635693Z",
     "iopub.status.idle": "2023-07-25T15:56:52.657937Z",
     "shell.execute_reply": "2023-07-25T15:56:52.656806Z"
    },
    "papermill": {
     "duration": 0.040239,
     "end_time": "2023-07-25T15:56:52.661075",
     "exception": false,
     "start_time": "2023-07-25T15:56:52.620836",
     "status": "completed"
    },
    "tags": []
   },
   "outputs": [
    {
     "name": "stdout",
     "output_type": "stream",
     "text": [
      "<class 'pandas.core.frame.DataFrame'>\n",
      "RangeIndex: 500 entries, 0 to 499\n",
      "Data columns (total 9 columns):\n",
      " #   Column             Non-Null Count  Dtype  \n",
      "---  ------             --------------  -----  \n",
      " 0   Serial_No          500 non-null    int64  \n",
      " 1   GRE_Score          500 non-null    int64  \n",
      " 2   TOEFL_Score        500 non-null    int64  \n",
      " 3   University_rating  500 non-null    int64  \n",
      " 4   SOP                500 non-null    float64\n",
      " 5   LOR                500 non-null    float64\n",
      " 6   CGPA               500 non-null    float64\n",
      " 7   Research           500 non-null    int64  \n",
      " 8   Chance_of_Admit    500 non-null    float64\n",
      "dtypes: float64(4), int64(5)\n",
      "memory usage: 35.3 KB\n"
     ]
    }
   ],
   "source": [
    "df.info()"
   ]
  },
  {
   "cell_type": "code",
   "execution_count": 10,
   "id": "7e4c945b",
   "metadata": {
    "execution": {
     "iopub.execute_input": "2023-07-25T15:56:52.689105Z",
     "iopub.status.busy": "2023-07-25T15:56:52.688739Z",
     "iopub.status.idle": "2023-07-25T15:56:52.699771Z",
     "shell.execute_reply": "2023-07-25T15:56:52.698905Z"
    },
    "papermill": {
     "duration": 0.027545,
     "end_time": "2023-07-25T15:56:52.701810",
     "exception": false,
     "start_time": "2023-07-25T15:56:52.674265",
     "status": "completed"
    },
    "tags": []
   },
   "outputs": [
    {
     "data": {
      "text/plain": [
       "Serial_No            500\n",
       "GRE_Score             49\n",
       "TOEFL_Score           29\n",
       "University_rating      5\n",
       "SOP                    9\n",
       "LOR                    9\n",
       "CGPA                 184\n",
       "Research               2\n",
       "Chance_of_Admit       61\n",
       "dtype: int64"
      ]
     },
     "execution_count": 10,
     "metadata": {},
     "output_type": "execute_result"
    }
   ],
   "source": [
    "df.nunique()"
   ]
  },
  {
   "cell_type": "markdown",
   "id": "b40083ba",
   "metadata": {
    "papermill": {
     "duration": 0.013365,
     "end_time": "2023-07-25T15:56:52.728304",
     "exception": false,
     "start_time": "2023-07-25T15:56:52.714939",
     "status": "completed"
    },
    "tags": []
   },
   "source": [
    "The parameters included are :\n",
    "\n",
    "GRE Scores ( out of 340 )\n",
    "\n",
    "TOEFL Scores ( out of 120 )\n",
    "\n",
    "University Rating ( out of 5 )\n",
    "\n",
    "Statement of Purpose and Letter of Recommendation Strength ( out of 5 )\n",
    "\n",
    "Undergraduate GPA ( out of 10 )\n",
    "\n",
    "Research Experience ( either 0 or 1 )\n",
    "\n",
    "Chance of Admit ( ranging from 0 to 1 )\n",
    "\n",
    "University_Rating,Research,SOP,LOR,can be considered as Categorical Variables"
   ]
  },
  {
   "cell_type": "code",
   "execution_count": 11,
   "id": "7bdb16ba",
   "metadata": {
    "execution": {
     "iopub.execute_input": "2023-07-25T15:56:52.759360Z",
     "iopub.status.busy": "2023-07-25T15:56:52.758945Z",
     "iopub.status.idle": "2023-07-25T15:56:52.764125Z",
     "shell.execute_reply": "2023-07-25T15:56:52.762828Z"
    },
    "papermill": {
     "duration": 0.022864,
     "end_time": "2023-07-25T15:56:52.766829",
     "exception": false,
     "start_time": "2023-07-25T15:56:52.743965",
     "status": "completed"
    },
    "tags": []
   },
   "outputs": [],
   "source": [
    "cat_cols=['University_rating','Research','SOP','LOR']"
   ]
  },
  {
   "cell_type": "code",
   "execution_count": 12,
   "id": "10a1a2ed",
   "metadata": {
    "execution": {
     "iopub.execute_input": "2023-07-25T15:56:52.795942Z",
     "iopub.status.busy": "2023-07-25T15:56:52.795504Z",
     "iopub.status.idle": "2023-07-25T15:56:52.807195Z",
     "shell.execute_reply": "2023-07-25T15:56:52.806117Z"
    },
    "papermill": {
     "duration": 0.029211,
     "end_time": "2023-07-25T15:56:52.809409",
     "exception": false,
     "start_time": "2023-07-25T15:56:52.780198",
     "status": "completed"
    },
    "tags": []
   },
   "outputs": [],
   "source": [
    "df[cat_cols]=df[cat_cols].astype('category')"
   ]
  },
  {
   "cell_type": "code",
   "execution_count": 13,
   "id": "2faa4e10",
   "metadata": {
    "execution": {
     "iopub.execute_input": "2023-07-25T15:56:52.837774Z",
     "iopub.status.busy": "2023-07-25T15:56:52.837349Z",
     "iopub.status.idle": "2023-07-25T15:56:52.845787Z",
     "shell.execute_reply": "2023-07-25T15:56:52.844633Z"
    },
    "papermill": {
     "duration": 0.02559,
     "end_time": "2023-07-25T15:56:52.848332",
     "exception": false,
     "start_time": "2023-07-25T15:56:52.822742",
     "status": "completed"
    },
    "tags": []
   },
   "outputs": [
    {
     "data": {
      "text/plain": [
       "Serial_No               int64\n",
       "GRE_Score               int64\n",
       "TOEFL_Score             int64\n",
       "University_rating    category\n",
       "SOP                  category\n",
       "LOR                  category\n",
       "CGPA                  float64\n",
       "Research             category\n",
       "Chance_of_Admit       float64\n",
       "dtype: object"
      ]
     },
     "execution_count": 13,
     "metadata": {},
     "output_type": "execute_result"
    }
   ],
   "source": [
    "df.dtypes"
   ]
  },
  {
   "cell_type": "markdown",
   "id": "f4389629",
   "metadata": {
    "papermill": {
     "duration": 0.013376,
     "end_time": "2023-07-25T15:56:52.875423",
     "exception": false,
     "start_time": "2023-07-25T15:56:52.862047",
     "status": "completed"
    },
    "tags": []
   },
   "source": [
    "Visualizations"
   ]
  },
  {
   "cell_type": "code",
   "execution_count": 14,
   "id": "619203bd",
   "metadata": {
    "execution": {
     "iopub.execute_input": "2023-07-25T15:56:52.905587Z",
     "iopub.status.busy": "2023-07-25T15:56:52.904513Z",
     "iopub.status.idle": "2023-07-25T15:56:54.323713Z",
     "shell.execute_reply": "2023-07-25T15:56:54.322457Z"
    },
    "papermill": {
     "duration": 1.437573,
     "end_time": "2023-07-25T15:56:54.326596",
     "exception": false,
     "start_time": "2023-07-25T15:56:52.889023",
     "status": "completed"
    },
    "tags": []
   },
   "outputs": [],
   "source": [
    "import matplotlib.pyplot as plt\n",
    "import seaborn as sns"
   ]
  },
  {
   "cell_type": "code",
   "execution_count": 15,
   "id": "949e556a",
   "metadata": {
    "execution": {
     "iopub.execute_input": "2023-07-25T15:56:54.355912Z",
     "iopub.status.busy": "2023-07-25T15:56:54.355150Z",
     "iopub.status.idle": "2023-07-25T15:56:54.651566Z",
     "shell.execute_reply": "2023-07-25T15:56:54.650420Z"
    },
    "papermill": {
     "duration": 0.313933,
     "end_time": "2023-07-25T15:56:54.654254",
     "exception": false,
     "start_time": "2023-07-25T15:56:54.340321",
     "status": "completed"
    },
    "tags": []
   },
   "outputs": [
    {
     "data": {
      "image/png": "[encoded data removed]",
      "text/plain": [
       "<Figure size 640x480 with 1 Axes>"
      ]
     },
     "metadata": {},
     "output_type": "display_data"
    }
   ],
   "source": [
    "df['GRE_Score'].plot(kind='box', title=\"GRE Score Box Plot\")\n",
    "plt.show()"
   ]
  },
  {
   "cell_type": "code",
   "execution_count": 16,
   "id": "2351ab36",
   "metadata": {
    "execution": {
     "iopub.execute_input": "2023-07-25T15:56:54.683981Z",
     "iopub.status.busy": "2023-07-25T15:56:54.683293Z",
     "iopub.status.idle": "2023-07-25T15:56:54.691298Z",
     "shell.execute_reply": "2023-07-25T15:56:54.690043Z"
    },
    "papermill": {
     "duration": 0.025802,
     "end_time": "2023-07-25T15:56:54.693884",
     "exception": false,
     "start_time": "2023-07-25T15:56:54.668082",
     "status": "completed"
    },
    "tags": []
   },
   "outputs": [
    {
     "name": "stdout",
     "output_type": "stream",
     "text": [
      "Minimum GRE Score :  290\n",
      "Maximum GRE Score :  340\n",
      "Average GRE Score :  316.472\n",
      "Std GRE Score :  11.2951483723547\n"
     ]
    }
   ],
   "source": [
    "print(\"Minimum GRE Score : \", df['GRE_Score'].min())\n",
    "print(\"Maximum GRE Score : \", df['GRE_Score'].max())\n",
    "print(\"Average GRE Score : \", df['GRE_Score'].mean())\n",
    "print(\"Std GRE Score : \", df['GRE_Score'].std())"
   ]
  },
  {
   "cell_type": "code",
   "execution_count": 17,
   "id": "ec4048f1",
   "metadata": {
    "execution": {
     "iopub.execute_input": "2023-07-25T15:56:54.723648Z",
     "iopub.status.busy": "2023-07-25T15:56:54.722918Z",
     "iopub.status.idle": "2023-07-25T15:56:54.733957Z",
     "shell.execute_reply": "2023-07-25T15:56:54.732834Z"
    },
    "papermill": {
     "duration": 0.028686,
     "end_time": "2023-07-25T15:56:54.736428",
     "exception": false,
     "start_time": "2023-07-25T15:56:54.707742",
     "status": "completed"
    },
    "tags": []
   },
   "outputs": [
    {
     "data": {
      "text/plain": [
       "3    162\n",
       "2    126\n",
       "4    105\n",
       "5     73\n",
       "1     34\n",
       "Name: University_rating, dtype: int64"
      ]
     },
     "execution_count": 17,
     "metadata": {},
     "output_type": "execute_result"
    }
   ],
   "source": [
    "df['University_rating'].value_counts()"
   ]
  },
  {
   "cell_type": "code",
   "execution_count": 18,
   "id": "6c1375fe",
   "metadata": {
    "execution": {
     "iopub.execute_input": "2023-07-25T15:56:54.768137Z",
     "iopub.status.busy": "2023-07-25T15:56:54.767696Z",
     "iopub.status.idle": "2023-07-25T15:56:54.962892Z",
     "shell.execute_reply": "2023-07-25T15:56:54.961803Z"
    },
    "papermill": {
     "duration": 0.21459,
     "end_time": "2023-07-25T15:56:54.966583",
     "exception": false,
     "start_time": "2023-07-25T15:56:54.751993",
     "status": "completed"
    },
    "tags": []
   },
   "outputs": [
    {
     "data": {
      "image/png": "[encoded data removed]",
      "text/plain": [
       "<Figure size 800x600 with 1 Axes>"
      ]
     },
     "metadata": {},
     "output_type": "display_data"
    }
   ],
   "source": [
    "df['University_rating'].value_counts().plot(kind='pie',autopct='%1.0f%%',figsize=(8,6),\n",
    "                                            title=\"University Rating Count Plot\")\n",
    "plt.show()"
   ]
  },
  {
   "cell_type": "code",
   "execution_count": 19,
   "id": "6a78080c",
   "metadata": {
    "execution": {
     "iopub.execute_input": "2023-07-25T15:56:55.014677Z",
     "iopub.status.busy": "2023-07-25T15:56:55.014292Z",
     "iopub.status.idle": "2023-07-25T15:56:55.233874Z",
     "shell.execute_reply": "2023-07-25T15:56:55.232729Z"
    },
    "papermill": {
     "duration": 0.238162,
     "end_time": "2023-07-25T15:56:55.236272",
     "exception": false,
     "start_time": "2023-07-25T15:56:54.998110",
     "status": "completed"
    },
    "tags": []
   },
   "outputs": [
    {
     "data": {
      "image/png": "[encoded data removed]",
      "text/plain": [
       "<Figure size 800x600 with 1 Axes>"
      ]
     },
     "metadata": {},
     "output_type": "display_data"
    }
   ],
   "source": [
    "df['SOP'].value_counts().sort_values().plot(kind='barh',figsize=(8,6),\n",
    "                                            title=\"SOP Count Plot\",color = ['red', 'yellow', 'black', 'blue', 'orange'])\n",
    "plt.show()"
   ]
  },
  {
   "cell_type": "code",
   "execution_count": 20,
   "id": "d5ed0fc2",
   "metadata": {
    "execution": {
     "iopub.execute_input": "2023-07-25T15:56:55.268209Z",
     "iopub.status.busy": "2023-07-25T15:56:55.267755Z",
     "iopub.status.idle": "2023-07-25T15:56:55.505144Z",
     "shell.execute_reply": "2023-07-25T15:56:55.503875Z"
    },
    "papermill": {
     "duration": 0.256562,
     "end_time": "2023-07-25T15:56:55.507879",
     "exception": false,
     "start_time": "2023-07-25T15:56:55.251317",
     "status": "completed"
    },
    "tags": []
   },
   "outputs": [
    {
     "data": {
      "image/png": "[encoded data removed]",
      "text/plain": [
       "<Figure size 640x480 with 1 Axes>"
      ]
     },
     "metadata": {},
     "output_type": "display_data"
    }
   ],
   "source": [
    "df.Research.value_counts().plot(kind='bar',title=\"Research Countplot\",color=[\"red\",\"blue\"])\n",
    "plt.show()"
   ]
  },
  {
   "cell_type": "code",
   "execution_count": 21,
   "id": "35175c57",
   "metadata": {
    "execution": {
     "iopub.execute_input": "2023-07-25T15:56:55.541280Z",
     "iopub.status.busy": "2023-07-25T15:56:55.540838Z",
     "iopub.status.idle": "2023-07-25T15:56:55.856573Z",
     "shell.execute_reply": "2023-07-25T15:56:55.855410Z"
    },
    "papermill": {
     "duration": 0.334975,
     "end_time": "2023-07-25T15:56:55.858884",
     "exception": false,
     "start_time": "2023-07-25T15:56:55.523909",
     "status": "completed"
    },
    "tags": []
   },
   "outputs": [
    {
     "data": {
      "image/png": "[encoded data removed]",
      "text/plain": [
       "<Figure size 640x480 with 1 Axes>"
      ]
     },
     "metadata": {},
     "output_type": "display_data"
    }
   ],
   "source": [
    "df.plot(kind=\"scatter\", x='GRE_Score', y = 'Chance_of_Admit', title=\"GRE_Score vs Chance_of_Admit\")\n",
    "plt.show()"
   ]
  },
  {
   "cell_type": "code",
   "execution_count": 22,
   "id": "b5372a51",
   "metadata": {
    "execution": {
     "iopub.execute_input": "2023-07-25T15:56:55.893318Z",
     "iopub.status.busy": "2023-07-25T15:56:55.892888Z",
     "iopub.status.idle": "2023-07-25T15:56:56.205660Z",
     "shell.execute_reply": "2023-07-25T15:56:56.204779Z"
    },
    "papermill": {
     "duration": 0.333413,
     "end_time": "2023-07-25T15:56:56.208485",
     "exception": false,
     "start_time": "2023-07-25T15:56:55.875072",
     "status": "completed"
    },
    "tags": []
   },
   "outputs": [
    {
     "data": {
      "image/png": "[encoded data removed]",
      "text/plain": [
       "<Figure size 640x480 with 1 Axes>"
      ]
     },
     "metadata": {},
     "output_type": "display_data"
    }
   ],
   "source": [
    "df.plot(kind=\"scatter\", x='TOEFL_Score', y = 'Chance_of_Admit' , title=\"TOEFL_Score vs Chance_ofAdmit\")\n",
    "plt.show()"
   ]
  },
  {
   "cell_type": "code",
   "execution_count": 23,
   "id": "f7f17948",
   "metadata": {
    "execution": {
     "iopub.execute_input": "2023-07-25T15:56:56.245227Z",
     "iopub.status.busy": "2023-07-25T15:56:56.244549Z",
     "iopub.status.idle": "2023-07-25T15:56:56.615577Z",
     "shell.execute_reply": "2023-07-25T15:56:56.614556Z"
    },
    "papermill": {
     "duration": 0.392561,
     "end_time": "2023-07-25T15:56:56.618838",
     "exception": false,
     "start_time": "2023-07-25T15:56:56.226277",
     "status": "completed"
    },
    "tags": []
   },
   "outputs": [
    {
     "data": {
      "image/png": "[encoded data removed]",
      "text/plain": [
       "<Figure size 1200x800 with 1 Axes>"
      ]
     },
     "metadata": {},
     "output_type": "display_data"
    }
   ],
   "source": [
    "df.boxplot(column='Chance_of_Admit',by='University_rating',grid=False,figsize=(12,8))\n",
    "plt.title('The Chance of Admission for University Ratings')\n",
    "plt.xlabel('University Rating')\n",
    "plt.ylabel('Chance of Admission')\n",
    "plt.show()"
   ]
  },
  {
   "cell_type": "code",
   "execution_count": 24,
   "id": "f4ed91a4",
   "metadata": {
    "execution": {
     "iopub.execute_input": "2023-07-25T15:56:56.655315Z",
     "iopub.status.busy": "2023-07-25T15:56:56.654910Z",
     "iopub.status.idle": "2023-07-25T15:56:56.660857Z",
     "shell.execute_reply": "2023-07-25T15:56:56.659661Z"
    },
    "papermill": {
     "duration": 0.027173,
     "end_time": "2023-07-25T15:56:56.663199",
     "exception": false,
     "start_time": "2023-07-25T15:56:56.636026",
     "status": "completed"
    },
    "tags": []
   },
   "outputs": [],
   "source": [
    "df.drop(columns='Serial_No', inplace = True)"
   ]
  },
  {
   "cell_type": "code",
   "execution_count": 25,
   "id": "25add02c",
   "metadata": {
    "execution": {
     "iopub.execute_input": "2023-07-25T15:56:56.700715Z",
     "iopub.status.busy": "2023-07-25T15:56:56.700304Z",
     "iopub.status.idle": "2023-07-25T15:56:56.705070Z",
     "shell.execute_reply": "2023-07-25T15:56:56.703910Z"
    },
    "papermill": {
     "duration": 0.025781,
     "end_time": "2023-07-25T15:56:56.707236",
     "exception": false,
     "start_time": "2023-07-25T15:56:56.681455",
     "status": "completed"
    },
    "tags": []
   },
   "outputs": [],
   "source": [
    "Y=df['Chance_of_Admit']"
   ]
  },
  {
   "cell_type": "code",
   "execution_count": 26,
   "id": "51513954",
   "metadata": {
    "execution": {
     "iopub.execute_input": "2023-07-25T15:56:56.744109Z",
     "iopub.status.busy": "2023-07-25T15:56:56.743717Z",
     "iopub.status.idle": "2023-07-25T15:56:56.749555Z",
     "shell.execute_reply": "2023-07-25T15:56:56.748401Z"
    },
    "papermill": {
     "duration": 0.027088,
     "end_time": "2023-07-25T15:56:56.751763",
     "exception": false,
     "start_time": "2023-07-25T15:56:56.724675",
     "status": "completed"
    },
    "tags": []
   },
   "outputs": [],
   "source": [
    "X=df.drop(['Chance_of_Admit'],axis=1)"
   ]
  },
  {
   "cell_type": "code",
   "execution_count": 27,
   "id": "432a30af",
   "metadata": {
    "execution": {
     "iopub.execute_input": "2023-07-25T15:56:56.788686Z",
     "iopub.status.busy": "2023-07-25T15:56:56.788261Z",
     "iopub.status.idle": "2023-07-25T15:56:57.054629Z",
     "shell.execute_reply": "2023-07-25T15:56:57.053217Z"
    },
    "papermill": {
     "duration": 0.287877,
     "end_time": "2023-07-25T15:56:57.057371",
     "exception": false,
     "start_time": "2023-07-25T15:56:56.769494",
     "status": "completed"
    },
    "tags": []
   },
   "outputs": [],
   "source": [
    "from sklearn.model_selection import train_test_split\n",
    "X_train,X_test,Y_train,Y_test=train_test_split(X,Y,test_size=0.20,random_state=70)"
   ]
  },
  {
   "cell_type": "markdown",
   "id": "61f1832d",
   "metadata": {
    "papermill": {
     "duration": 0.017207,
     "end_time": "2023-07-25T15:56:57.092090",
     "exception": false,
     "start_time": "2023-07-25T15:56:57.074883",
     "status": "completed"
    },
    "tags": []
   },
   "source": [
    "##**Encoding**\n",
    "\n",
    "#As we Categorical Attributes in data set.That attributes are stored in Cat_cols so we do encoding.   \n",
    "\n",
    "#Ways to deal with categorical variables..\n",
    "\n",
    "#1.Using get_dummies function\n",
    "\n",
    "#2.One-hotEncoding\n",
    "\n",
    "#3.labelEncoding"
   ]
  },
  {
   "cell_type": "code",
   "execution_count": 28,
   "id": "0fc96aa7",
   "metadata": {
    "execution": {
     "iopub.execute_input": "2023-07-25T15:56:57.129001Z",
     "iopub.status.busy": "2023-07-25T15:56:57.128583Z",
     "iopub.status.idle": "2023-07-25T15:56:57.133711Z",
     "shell.execute_reply": "2023-07-25T15:56:57.132628Z"
    },
    "papermill": {
     "duration": 0.02629,
     "end_time": "2023-07-25T15:56:57.135809",
     "exception": false,
     "start_time": "2023-07-25T15:56:57.109519",
     "status": "completed"
    },
    "tags": []
   },
   "outputs": [],
   "source": [
    "from sklearn.preprocessing import StandardScaler\n",
    "from sklearn.metrics import r2_score, mean_absolute_error"
   ]
  },
  {
   "cell_type": "markdown",
   "id": "b70c685c",
   "metadata": {
    "papermill": {
     "duration": 0.016806,
     "end_time": "2023-07-25T15:56:57.169959",
     "exception": false,
     "start_time": "2023-07-25T15:56:57.153153",
     "status": "completed"
    },
    "tags": []
   },
   "source": [
    "Standardization and Normalization are two ways to deal with numerical columns."
   ]
  },
  {
   "cell_type": "code",
   "execution_count": 29,
   "id": "4f80d6d9",
   "metadata": {
    "execution": {
     "iopub.execute_input": "2023-07-25T15:56:57.207271Z",
     "iopub.status.busy": "2023-07-25T15:56:57.206525Z",
     "iopub.status.idle": "2023-07-25T15:56:57.220391Z",
     "shell.execute_reply": "2023-07-25T15:56:57.219185Z"
    },
    "papermill": {
     "duration": 0.035535,
     "end_time": "2023-07-25T15:56:57.223113",
     "exception": false,
     "start_time": "2023-07-25T15:56:57.187578",
     "status": "completed"
    },
    "tags": []
   },
   "outputs": [],
   "source": [
    "scaler = StandardScaler()\n",
    "X_train = scaler.fit_transform(X_train)\n",
    "X_test = scaler.transform(X_test)"
   ]
  },
  {
   "cell_type": "markdown",
   "id": "2200c520",
   "metadata": {
    "papermill": {
     "duration": 0.017494,
     "end_time": "2023-07-25T15:56:57.258366",
     "exception": false,
     "start_time": "2023-07-25T15:56:57.240872",
     "status": "completed"
    },
    "tags": []
   },
   "source": [
    "lets fit simple linear regression model"
   ]
  },
  {
   "cell_type": "code",
   "execution_count": 30,
   "id": "ec067b96",
   "metadata": {
    "execution": {
     "iopub.execute_input": "2023-07-25T15:56:57.295386Z",
     "iopub.status.busy": "2023-07-25T15:56:57.294269Z",
     "iopub.status.idle": "2023-07-25T15:56:57.392389Z",
     "shell.execute_reply": "2023-07-25T15:56:57.391166Z"
    },
    "papermill": {
     "duration": 0.119489,
     "end_time": "2023-07-25T15:56:57.395091",
     "exception": false,
     "start_time": "2023-07-25T15:56:57.275602",
     "status": "completed"
    },
    "tags": []
   },
   "outputs": [],
   "source": [
    "from sklearn.linear_model import LinearRegression"
   ]
  },
  {
   "cell_type": "code",
   "execution_count": 31,
   "id": "2e5a2d02",
   "metadata": {
    "execution": {
     "iopub.execute_input": "2023-07-25T15:56:57.431741Z",
     "iopub.status.busy": "2023-07-25T15:56:57.431298Z",
     "iopub.status.idle": "2023-07-25T15:56:57.464062Z",
     "shell.execute_reply": "2023-07-25T15:56:57.462769Z"
    },
    "papermill": {
     "duration": 0.05373,
     "end_time": "2023-07-25T15:56:57.466417",
     "exception": false,
     "start_time": "2023-07-25T15:56:57.412687",
     "status": "completed"
    },
    "tags": []
   },
   "outputs": [
    {
     "data": {
      "text/html": [
       "<style>#sk-container-id-1 {color: black;background-color: white;}#sk-container-id-1 pre{padding: 0;}#sk-container-id-1 div.sk-toggleable {background-color: white;}#sk-container-id-1 label.sk-toggleable__label {cursor: pointer;display: block;width: 100%;margin-bottom: 0;padding: 0.3em;box-sizing: border-box;text-align: center;}#sk-container-id-1 label.sk-toggleable__label-arrow:before {content: \"▸\";float: left;margin-right: 0.25em;color: #696969;}#sk-container-id-1 label.sk-toggleable__label-arrow:hover:before {color: black;}#sk-container-id-1 div.sk-estimator:hover label.sk-toggleable__label-arrow:before {color: black;}#sk-container-id-1 div.sk-toggleable__content {max-height: 0;max-width: 0;overflow: hidden;text-align: left;background-color: #f0f8ff;}#sk-container-id-1 div.sk-toggleable__content pre {margin: 0.2em;color: black;border-radius: 0.25em;background-color: #f0f8ff;}#sk-container-id-1 input.sk-toggleable__control:checked~div.sk-toggleable__content {max-height: 200px;max-width: 100%;overflow: auto;}#sk-container-id-1 input.sk-toggleable__control:checked~label.sk-toggleable__label-arrow:before {content: \"▾\";}#sk-container-id-1 div.sk-estimator input.sk-toggleable__control:checked~label.sk-toggleable__label {background-color: #d4ebff;}#sk-container-id-1 div.sk-label input.sk-toggleable__control:checked~label.sk-toggleable__label {background-color: #d4ebff;}#sk-container-id-1 input.sk-hidden--visually {border: 0;clip: rect(1px 1px 1px 1px);clip: rect(1px, 1px, 1px, 1px);height: 1px;margin: -1px;overflow: hidden;padding: 0;position: absolute;width: 1px;}#sk-container-id-1 div.sk-estimator {font-family: monospace;background-color: #f0f8ff;border: 1px dotted black;border-radius: 0.25em;box-sizing: border-box;margin-bottom: 0.5em;}#sk-container-id-1 div.sk-estimator:hover {background-color: #d4ebff;}#sk-container-id-1 div.sk-parallel-item::after {content: \"\";width: 100%;border-bottom: 1px solid gray;flex-grow: 1;}#sk-container-id-1 div.sk-label:hover label.sk-toggleable__label {background-color: #d4ebff;}#sk-container-id-1 div.sk-serial::before {content: \"\";position: absolute;border-left: 1px solid gray;box-sizing: border-box;top: 0;bottom: 0;left: 50%;z-index: 0;}#sk-container-id-1 div.sk-serial {display: flex;flex-direction: column;align-items: center;background-color: white;padding-right: 0.2em;padding-left: 0.2em;position: relative;}#sk-container-id-1 div.sk-item {position: relative;z-index: 1;}#sk-container-id-1 div.sk-parallel {display: flex;align-items: stretch;justify-content: center;background-color: white;position: relative;}#sk-container-id-1 div.sk-item::before, #sk-container-id-1 div.sk-parallel-item::before {content: \"\";position: absolute;border-left: 1px solid gray;box-sizing: border-box;top: 0;bottom: 0;left: 50%;z-index: -1;}#sk-container-id-1 div.sk-parallel-item {display: flex;flex-direction: column;z-index: 1;position: relative;background-color: white;}#sk-container-id-1 div.sk-parallel-item:first-child::after {align-self: flex-end;width: 50%;}#sk-container-id-1 div.sk-parallel-item:last-child::after {align-self: flex-start;width: 50%;}#sk-container-id-1 div.sk-parallel-item:only-child::after {width: 0;}#sk-container-id-1 div.sk-dashed-wrapped {border: 1px dashed gray;margin: 0 0.4em 0.5em 0.4em;box-sizing: border-box;padding-bottom: 0.4em;background-color: white;}#sk-container-id-1 div.sk-label label {font-family: monospace;font-weight: bold;display: inline-block;line-height: 1.2em;}#sk-container-id-1 div.sk-label-container {text-align: center;}#sk-container-id-1 div.sk-container {/* jupyter's `normalize.less` sets `[hidden] { display: none; }` but bootstrap.min.css set `[hidden] { display: none !important; }` so we also need the `!important` here to be able to override the default hidden behavior on the sphinx rendered scikit-learn.org. See: https://github.com/scikit-learn/scikit-learn/issues/21755 */display: inline-block !important;position: relative;}#sk-container-id-1 div.sk-text-repr-fallback {display: none;}</style><div id=\"sk-container-id-1\" class=\"sk-top-container\"><div class=\"sk-text-repr-fallback\"><pre>LinearRegression()</pre><b>In a Jupyter environment, please rerun this cell to show the HTML representation or trust the notebook. <br />On GitHub, the HTML representation is unable to render, please try loading this page with nbviewer.org.</b></div><div class=\"sk-container\" hidden><div class=\"sk-item\"><div class=\"sk-estimator sk-toggleable\"><input class=\"sk-toggleable__control sk-hidden--visually\" id=\"sk-estimator-id-1\" type=\"checkbox\" checked><label for=\"sk-estimator-id-1\" class=\"sk-toggleable__label sk-toggleable__label-arrow\">LinearRegression</label><div class=\"sk-toggleable__content\"><pre>LinearRegression()</pre></div></div></div></div></div>"
      ],
      "text/plain": [
       "LinearRegression()"
      ]
     },
     "execution_count": 31,
     "metadata": {},
     "output_type": "execute_result"
    }
   ],
   "source": [
    "lr = LinearRegression()\n",
    "lr.fit(X_train, Y_train)"
   ]
  },
  {
   "cell_type": "code",
   "execution_count": 32,
   "id": "5bb08cea",
   "metadata": {
    "execution": {
     "iopub.execute_input": "2023-07-25T15:56:57.504432Z",
     "iopub.status.busy": "2023-07-25T15:56:57.503402Z",
     "iopub.status.idle": "2023-07-25T15:56:57.508691Z",
     "shell.execute_reply": "2023-07-25T15:56:57.507733Z"
    },
    "papermill": {
     "duration": 0.026811,
     "end_time": "2023-07-25T15:56:57.511048",
     "exception": false,
     "start_time": "2023-07-25T15:56:57.484237",
     "status": "completed"
    },
    "tags": []
   },
   "outputs": [],
   "source": [
    "y_pred = lr.predict(X_test)"
   ]
  },
  {
   "cell_type": "code",
   "execution_count": 33,
   "id": "da086daf",
   "metadata": {
    "execution": {
     "iopub.execute_input": "2023-07-25T15:56:57.549858Z",
     "iopub.status.busy": "2023-07-25T15:56:57.548867Z",
     "iopub.status.idle": "2023-07-25T15:56:57.556119Z",
     "shell.execute_reply": "2023-07-25T15:56:57.555309Z"
    },
    "papermill": {
     "duration": 0.028985,
     "end_time": "2023-07-25T15:56:57.558368",
     "exception": false,
     "start_time": "2023-07-25T15:56:57.529383",
     "status": "completed"
    },
    "tags": []
   },
   "outputs": [
    {
     "data": {
      "text/plain": [
       "0.8065157752864474"
      ]
     },
     "execution_count": 33,
     "metadata": {},
     "output_type": "execute_result"
    }
   ],
   "source": [
    "r2_score(Y_test, y_pred)"
   ]
  },
  {
   "cell_type": "code",
   "execution_count": null,
   "id": "d70b7677",
   "metadata": {
    "papermill": {
     "duration": 0.017614,
     "end_time": "2023-07-25T15:56:57.594209",
     "exception": false,
     "start_time": "2023-07-25T15:56:57.576595",
     "status": "completed"
    },
    "tags": []
   },
   "outputs": [],
   "source": []
  }
 ],
 "metadata": {
  "kernelspec": {
   "display_name": "Python 3",
   "language": "python",
   "name": "python3"
  },
  "language_info": {
   "codemirror_mode": {
    "name": "ipython",
    "version": 3
   },
   "file_extension": ".py",
   "mimetype": "text/x-python",
   "name": "python",
   "nbconvert_exporter": "python",
   "pygments_lexer": "ipython3",
   "version": "3.10.12"
  },
  "papermill": {
   "default_parameters": {},
   "duration": 17.592323,
   "end_time": "2023-07-25T15:56:58.635696",
   "environment_variables": {},
   "exception": null,
   "input_path": "__notebook__.ipynb",
   "output_path": "__notebook__.ipynb",
   "parameters": {},
   "start_time": "2023-07-25T15:56:41.043373",
   "version": "2.4.0"
  }
 },
 "nbformat": 4,
 "nbformat_minor": 5
}
